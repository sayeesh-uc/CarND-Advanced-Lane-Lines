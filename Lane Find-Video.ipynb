{
 "cells": [
  {
   "cell_type": "markdown",
   "metadata": {},
   "source": [
    "# Lane Finding"
   ]
  },
  {
   "cell_type": "code",
   "execution_count": 1,
   "metadata": {},
   "outputs": [],
   "source": [
    "import numpy as np\n",
    "import cv2\n",
    "import matplotlib.pyplot as plt\n",
    "import matplotlib.image as mpimg\n",
    "%matplotlib inline"
   ]
  },
  {
   "cell_type": "code",
   "execution_count": 2,
   "metadata": {},
   "outputs": [],
   "source": [
    "# Read pickle data\n",
    "\n",
    "import pickle\n",
    "camera_calibration = pickle.load(open('./pickle_data/camera_calibration.p', 'rb'))\n",
    "mtx = camera_calibration['mtx']\n",
    "dist = camera_calibration['dist']\n",
    "\n",
    "import pickle\n",
    "perspective_transform = pickle.load(open('./pickle_data/perspective_transform.p', 'rb'))\n",
    "M = perspective_transform['M']\n",
    "Minv = perspective_transform['Minv']"
   ]
  },
  {
   "cell_type": "code",
   "execution_count": 3,
   "metadata": {},
   "outputs": [],
   "source": [
    "# Adding methods from color and gradient threshold\n",
    "\n",
    "def abs_sobel_thresh(img, orient='x', thresh_min=0, thresh_max=255):\n",
    "    # Apply x or y gradient with the OpenCV Sobel() function\n",
    "    # and take the absolute value\n",
    "    if orient == 'x':\n",
    "        abs_sobel = np.absolute(cv2.Sobel(img, cv2.CV_64F, 1, 0))\n",
    "    if orient == 'y':\n",
    "        abs_sobel = np.absolute(cv2.Sobel(img, cv2.CV_64F, 0, 1))\n",
    "    # Rescale back to 8 bit integer\n",
    "    scaled_sobel = np.uint8(255*abs_sobel/np.max(abs_sobel))\n",
    "    # Create a copy and apply the threshold\n",
    "    binary_output = np.zeros_like(scaled_sobel)\n",
    "    # Here I'm using inclusive (>=, <=) thresholds, but exclusive is ok too\n",
    "    binary_output[(scaled_sobel >= thresh_min) & (scaled_sobel <= thresh_max)] = 1\n",
    "    # Return the result\n",
    "    return binary_output\n",
    "\n",
    "\n",
    "def mag_thresh(img, sobel_kernel=3, mag_thresh=(0, 255)):\n",
    "  # Take both Sobel x and y gradients\n",
    "    sobelx = cv2.Sobel(img, cv2.CV_64F, 1, 0, ksize=sobel_kernel)\n",
    "    sobely = cv2.Sobel(img, cv2.CV_64F, 0, 1, ksize=sobel_kernel)\n",
    "    # Calculate the gradient magnitude\n",
    "    gradmag = np.sqrt(sobelx**2 + sobely**2)\n",
    "    # Rescale to 8 bit\n",
    "    scale_factor = np.max(gradmag)/255 \n",
    "    gradmag = (gradmag/scale_factor).astype(np.uint8) \n",
    "    # Create a binary image of ones where threshold is met, zeros otherwise\n",
    "    binary_output = np.zeros_like(gradmag)\n",
    "    binary_output[(gradmag >= mag_thresh[0]) & (gradmag <= mag_thresh[1])] = 1\n",
    "    # Return the binary image\n",
    "    return binary_output\n",
    "\n",
    "\n",
    "def dir_threshold(img, sobel_kernel=3, thresh=(0, np.pi/2)):\n",
    "    # Grayscale\n",
    "    # Calculate the x and y gradients\n",
    "    sobelx = cv2.Sobel(img, cv2.CV_64F, 1, 0, ksize=sobel_kernel)\n",
    "    sobely = cv2.Sobel(img, cv2.CV_64F, 0, 1, ksize=sobel_kernel)\n",
    "    # Take the absolute value of the gradient direction, \n",
    "    # apply a threshold, and create a binary image result\n",
    "    absgraddir = np.arctan2(np.absolute(sobely), np.absolute(sobelx))\n",
    "    binary_output =  np.zeros_like(absgraddir)\n",
    "    binary_output[(absgraddir >= thresh[0]) & (absgraddir <= thresh[1])] = 1\n",
    "    # Return the binary image\n",
    "    return binary_output\n",
    "\n",
    "\n",
    "def combine(gray, gradx, grady, mag_binary, dir_binary):\n",
    "    combined = np.zeros_like(gray)\n",
    "    combined[((gradx == 1) & (grady == 1)) | ((mag_binary == 1) & (dir_binary == 1))] = 1                           \n",
    "    return combined\n",
    "\n",
    "\n",
    "def warp_image(undist):\n",
    "    img_size = (image.shape[1], image.shape[0])\n",
    "    warped = cv2.warpPerspective(undist, M, img_size, flags=cv2.INTER_LINEAR)\n",
    "    return warped\n",
    "\n",
    "\n",
    "def apply_all_processing(image):\n",
    "    image = cv2.undistort(image, mtx, dist, None, mtx)\n",
    "    HLS_image = cv2.cvtColor(undist, cv2.COLOR_RGB2HLS)\n",
    "    s_channel_img = HLS_image[:,:,2]\n",
    "    combined = np.zeros_like(s_channel_img)\n",
    "    image = s_channel_img\n",
    "    gradx = abs_sobel_thresh(image,  orient='x', thresh_min=10, thresh_max=160)\n",
    "    grady = abs_sobel_thresh(image,  orient='y', thresh_min=10, thresh_max=160)\n",
    "    mag_binary = mag_thresh(image, sobel_kernel=3, mag_thresh=(10, 150))\n",
    "    dir_binary = dir_threshold(image, sobel_kernel=15, thresh=(0.7, 1.3))\n",
    "    combined[((gradx == 1) & (grady == 1)) | ((mag_binary == 1) & (dir_binary == 1))] = 1 \n",
    "    return combined\n",
    "\n",
    "def transform_and_warp(image):\n",
    "    return warp_image(apply_all_processing(image))"
   ]
  },
  {
   "cell_type": "code",
   "execution_count": 4,
   "metadata": {},
   "outputs": [],
   "source": [
    "import numpy as np\n",
    "import cv2\n",
    "import matplotlib.pyplot as plt\n",
    "\n",
    "def FindLanes(binary_warped, visualize=False):\n",
    "    # Assuming you have created a warped binary image called \"binary_warped\"\n",
    "    # Take a histogram of the bottom half of the image\n",
    "    histogram = np.sum(binary_warped[binary_warped.shape[0]//2:,:], axis=0)\n",
    "    # Create an output image to draw on and  visualize the result\n",
    "    out_img = np.dstack((binary_warped, binary_warped, binary_warped))*255\n",
    "    # Find the peak of the left and right halves of the histogram\n",
    "    # These will be the starting point for the left and right lines\n",
    "    midpoint = np.int(histogram.shape[0]//2)\n",
    "    leftx_base = np.argmax(histogram[:midpoint])\n",
    "    rightx_base = np.argmax(histogram[midpoint:]) + midpoint\n",
    "\n",
    "    # Choose the number of sliding windows\n",
    "    nwindows = 9\n",
    "    # Set height of windows\n",
    "    window_height = np.int(binary_warped.shape[0]//nwindows)\n",
    "    # Identify the x and y positions of all nonzero pixels in the image\n",
    "    nonzero = binary_warped.nonzero()\n",
    "    nonzeroy = np.array(nonzero[0])\n",
    "    nonzerox = np.array(nonzero[1])\n",
    "    # Current positions to be updated for each window\n",
    "    leftx_current = leftx_base\n",
    "    rightx_current = rightx_base\n",
    "    # Set the width of the windows +/- margin\n",
    "    margin = 100\n",
    "    # Set minimum number of pixels found to recenter window\n",
    "    minpix = 50\n",
    "    # Create empty lists to receive left and right lane pixel indices\n",
    "    left_lane_inds = []\n",
    "    right_lane_inds = []\n",
    "\n",
    "    # Step through the windows one by one\n",
    "    for window in range(nwindows):\n",
    "        # Identify window boundaries in x and y (and right and left)\n",
    "        win_y_low = binary_warped.shape[0] - (window+1)*window_height\n",
    "        win_y_high = binary_warped.shape[0] - window*window_height\n",
    "        win_xleft_low = leftx_current - margin\n",
    "        win_xleft_high = leftx_current + margin\n",
    "        win_xright_low = rightx_current - margin\n",
    "        win_xright_high = rightx_current + margin\n",
    "        # Draw the windows on the visualization image\n",
    "        cv2.rectangle(out_img,(win_xleft_low,win_y_low),(win_xleft_high,win_y_high),\n",
    "        (0,255,0), 2) \n",
    "        cv2.rectangle(out_img,(win_xright_low,win_y_low),(win_xright_high,win_y_high),\n",
    "        (0,255,0), 2) \n",
    "        # Identify the nonzero pixels in x and y within the window\n",
    "        good_left_inds = ((nonzeroy >= win_y_low) & (nonzeroy < win_y_high) & \n",
    "        (nonzerox >= win_xleft_low) &  (nonzerox < win_xleft_high)).nonzero()[0]\n",
    "        good_right_inds = ((nonzeroy >= win_y_low) & (nonzeroy < win_y_high) & \n",
    "        (nonzerox >= win_xright_low) &  (nonzerox < win_xright_high)).nonzero()[0]\n",
    "        # Append these indices to the lists\n",
    "        left_lane_inds.append(good_left_inds)\n",
    "        right_lane_inds.append(good_right_inds)\n",
    "        # If you found > minpix pixels, recenter next window on their mean position\n",
    "        if len(good_left_inds) > minpix:\n",
    "            leftx_current = np.int(np.mean(nonzerox[good_left_inds]))\n",
    "        if len(good_right_inds) > minpix:        \n",
    "            rightx_current = np.int(np.mean(nonzerox[good_right_inds]))\n",
    "\n",
    "    # Concatenate the arrays of indices\n",
    "    left_lane_inds = np.concatenate(left_lane_inds)\n",
    "    right_lane_inds = np.concatenate(right_lane_inds)\n",
    "\n",
    "    # Extract left and right line pixel positions\n",
    "    leftx = nonzerox[left_lane_inds]\n",
    "    lefty = nonzeroy[left_lane_inds] \n",
    "    rightx = nonzerox[right_lane_inds]\n",
    "    righty = nonzeroy[right_lane_inds] \n",
    "\n",
    "    # Fit a second order polynomial to each\n",
    "    left_fit = np.polyfit(lefty, leftx, 2)\n",
    "    right_fit = np.polyfit(righty, rightx, 2)\n",
    "    \n",
    "    if visualize:\n",
    "        # Generate x and y values for plotting\n",
    "        left_fit, right_fit = FindLanes(binary_warped)\n",
    "        ploty = np.linspace(0, binary_warped.shape[0]-1, binary_warped.shape[0] )\n",
    "        left_fitx = left_fit[0]*ploty**2 + left_fit[1]*ploty + left_fit[2]\n",
    "        right_fitx = right_fit[0]*ploty**2 + right_fit[1]*ploty + right_fit[2]\n",
    "\n",
    "        out_img[nonzeroy[left_lane_inds], nonzerox[left_lane_inds]] = [255, 0, 0]\n",
    "        out_img[nonzeroy[right_lane_inds], nonzerox[right_lane_inds]] = [0, 0, 255]\n",
    "        plt.imshow(out_img)\n",
    "        plt.plot(left_fitx, ploty, color='yellow')\n",
    "        plt.plot(right_fitx, ploty, color='yellow')\n",
    "        plt.xlim(0, 1280)\n",
    "        plt.ylim(720, 0)\n",
    "    \n",
    "    return left_fit, right_fit"
   ]
  },
  {
   "cell_type": "markdown",
   "metadata": {},
   "source": [
    "### Skip the sliding windows step once you know where the lines are"
   ]
  },
  {
   "cell_type": "code",
   "execution_count": 5,
   "metadata": {},
   "outputs": [],
   "source": [
    "def FindLanesUsingMargin(binary_warped, left_fit, right_fit, visualize=False):\n",
    "    # Assume you now have a new warped binary image \n",
    "    # from the next frame of video (also called \"binary_warped\")\n",
    "    # It's now much easier to find line pixels!\n",
    "    nonzero = binary_warped.nonzero()\n",
    "    nonzeroy = np.array(nonzero[0])\n",
    "    nonzerox = np.array(nonzero[1])\n",
    "    margin = 150\n",
    "    left_lane_inds = ((nonzerox > (left_fit[0]*(nonzeroy**2) + left_fit[1]*nonzeroy + \n",
    "    left_fit[2] - margin)) & (nonzerox < (left_fit[0]*(nonzeroy**2) + \n",
    "    left_fit[1]*nonzeroy + left_fit[2] + margin))) \n",
    "\n",
    "    right_lane_inds = ((nonzerox > (right_fit[0]*(nonzeroy**2) + right_fit[1]*nonzeroy + \n",
    "    right_fit[2] - margin)) & (nonzerox < (right_fit[0]*(nonzeroy**2) + \n",
    "    right_fit[1]*nonzeroy + right_fit[2] + margin)))  \n",
    "\n",
    "    # Again, extract left and right line pixel positions\n",
    "    leftx = nonzerox[left_lane_inds]\n",
    "    lefty = nonzeroy[left_lane_inds] \n",
    "    rightx = nonzerox[right_lane_inds]\n",
    "    righty = nonzeroy[right_lane_inds]\n",
    "    # Fit a second order polynomial to each\n",
    "    left_fit = np.polyfit(lefty, leftx, 2)\n",
    "    right_fit = np.polyfit(righty, rightx, 2)\n",
    "\n",
    "\n",
    "    if visualize:\n",
    "        # Generate x and y values for plotting\n",
    "        ploty = np.linspace(0, binary_warped.shape[0]-1, binary_warped.shape[0] )\n",
    "        left_fitx = left_fit[0]*ploty**2 + left_fit[1]*ploty + left_fit[2]\n",
    "        right_fitx = right_fit[0]*ploty**2 + right_fit[1]*ploty + right_fit[2]\n",
    "        # Create an image to draw on and an image to show the selection window\n",
    "        out_img = np.dstack((binary_warped, binary_warped, binary_warped))*255\n",
    "        window_img = np.zeros_like(out_img)\n",
    "        # Color in left and right line pixels\n",
    "        out_img[nonzeroy[left_lane_inds], nonzerox[left_lane_inds]] = [255, 0, 0]\n",
    "        out_img[nonzeroy[right_lane_inds], nonzerox[right_lane_inds]] = [0, 0, 255]\n",
    "\n",
    "        # Generate a polygon to illustrate the search window area\n",
    "        # And recast the x and y points into usable format for cv2.fillPoly()\n",
    "        left_line_window1 = np.array([np.transpose(np.vstack([left_fitx-margin, ploty]))])\n",
    "        left_line_window2 = np.array([np.flipud(np.transpose(np.vstack([left_fitx+margin, \n",
    "                                      ploty])))])\n",
    "        left_line_pts = np.hstack((left_line_window1, left_line_window2))\n",
    "        right_line_window1 = np.array([np.transpose(np.vstack([right_fitx-margin, ploty]))])\n",
    "        right_line_window2 = np.array([np.flipud(np.transpose(np.vstack([right_fitx+margin, \n",
    "                                      ploty])))])\n",
    "        right_line_pts = np.hstack((right_line_window1, right_line_window2))\n",
    "\n",
    "        # Draw the lane onto the warped blank image\n",
    "        cv2.fillPoly(window_img, np.int_([left_line_pts]), (0,255, 0))\n",
    "        cv2.fillPoly(window_img, np.int_([right_line_pts]), (0,255, 0))\n",
    "        result = cv2.addWeighted(out_img, 1, window_img, 0.3, 0)\n",
    "        plt.imshow(result)\n",
    "        plt.plot(left_fitx, ploty, color='yellow')\n",
    "        plt.plot(right_fitx, ploty, color='yellow')\n",
    "        plt.xlim(0, 1280)\n",
    "        plt.ylim(720, 0)\n",
    "    \n",
    "    \n",
    "    return left_fit, right_fit"
   ]
  },
  {
   "cell_type": "markdown",
   "metadata": {},
   "source": [
    "## Measuring Curvature"
   ]
  },
  {
   "cell_type": "code",
   "execution_count": 6,
   "metadata": {},
   "outputs": [],
   "source": [
    "# Define conversions in x and y from pixels space to meters\n",
    "ym_per_pix = 30/720 # meters per pixel in y dimension\n",
    "xm_per_pix = 3.7/700 # meters per pixel in x dimension\n",
    "\n",
    "def GetLanePoints(left_fit, right_fit, binary_warped):\n",
    "    ploty = np.linspace(0, binary_warped.shape[0]-1, binary_warped.shape[0] )\n",
    "    left_fitx = left_fit[0]*ploty**2 + left_fit[1]*ploty + left_fit[2]\n",
    "    right_fitx = right_fit[0]*ploty**2 + right_fit[1]*ploty + right_fit[2]\n",
    "    return left_fitx, right_fitx, ploty\n",
    "\n",
    "def GetCurveRadius(leftx, rightx, ploty):\n",
    "    y_eval = max(ploty)\n",
    "\n",
    "    # Fit new polynomials to x,y in world space\n",
    "    left_fit_cr = np.polyfit(ploty*ym_per_pix, leftx*xm_per_pix, 2)\n",
    "    right_fit_cr = np.polyfit(ploty*ym_per_pix, rightx*xm_per_pix, 2)\n",
    "    # Calculate the new radii of curvature\n",
    "    left_curverad = ((1 + (2*left_fit_cr[0]*y_eval*ym_per_pix + left_fit_cr[1])**2)**1.5) / np.absolute(2*left_fit_cr[0])\n",
    "    right_curverad = ((1 + (2*right_fit_cr[0]*y_eval*ym_per_pix + right_fit_cr[1])**2)**1.5) / np.absolute(2*right_fit_cr[0])\n",
    "    # Now our radius of curvature is in meters\n",
    "    # Example values: 632.1 m    626.2 m\n",
    "    return left_curverad, right_curverad, "
   ]
  },
  {
   "cell_type": "markdown",
   "metadata": {},
   "source": [
    "## Project lanes back to original image"
   ]
  },
  {
   "cell_type": "code",
   "execution_count": 7,
   "metadata": {},
   "outputs": [],
   "source": [
    "def ProjectLanesOnImage(undist, binary_warped, left_fitx, right_fitx, ploty):\n",
    "    image = undist\n",
    "\n",
    "    # Create an image to draw the lines on\n",
    "    warp_zero = np.zeros_like(binary_warped).astype(np.uint8)\n",
    "    color_warp = np.dstack((warp_zero, warp_zero, warp_zero))\n",
    "\n",
    "    # Recast the x and y points into usable format for cv2.fillPoly()\n",
    "    pts_left = np.array([np.transpose(np.vstack([left_fitx, ploty]))])\n",
    "    pts_right = np.array([np.flipud(np.transpose(np.vstack([right_fitx, ploty])))])\n",
    "    pts = np.hstack((pts_left, pts_right))\n",
    "\n",
    "    # Draw the lane onto the warped blank image\n",
    "    cv2.fillPoly(color_warp, np.int_([pts]), (0,255, 0))\n",
    "\n",
    "    # Warp the blank back to original image space using inverse perspective matrix (Minv)\n",
    "    newwarp = cv2.warpPerspective(color_warp, Minv, (image.shape[1], image.shape[0])) \n",
    "    # Combine the result with the original image\n",
    "    result = cv2.addWeighted(undist, 1, newwarp, 0.3, 0)\n",
    "    return result\n",
    "\n",
    "def GetLaneRadiusDetails(left_fitx, right_fitx, ploty): \n",
    "    left_curverad, right_curverad = GetCurveRadius(left_fitx, right_fitx, ploty)\n",
    "    return left_curverad, right_curverad\n"
   ]
  },
  {
   "cell_type": "markdown",
   "metadata": {},
   "source": [
    "## Identify car location"
   ]
  },
  {
   "cell_type": "code",
   "execution_count": 8,
   "metadata": {},
   "outputs": [],
   "source": [
    "import math\n",
    "\n",
    "\n",
    "def AddCarLocation(image, left_fit, right_fit):\n",
    "    undist =image\n",
    "    car_center = undist.shape[1]/2\n",
    "    y_max = undist.shape[0]\n",
    "\n",
    "    left_lane = left_fit[0]*y_max**2 + left_fit[1]*y_max + left_fit[2]\n",
    "    right_lane = right_fit[0]*y_max**2 + right_fit[1]*y_max + right_fit[2]\n",
    "    lane_center = (left_lane + right_lane)/2\n",
    "\n",
    "    location = ''\n",
    "    difference = lane_center - car_center\n",
    "    if difference > 0:\n",
    "        location = 'left'\n",
    "    else:\n",
    "        location = 'right'\n",
    "\n",
    "    distance = math.fabs(difference*xm_per_pix)\n",
    "    \n",
    "    font = cv2.FONT_HERSHEY_SIMPLEX\n",
    "    cv2.putText(image, '{} from center: {:.2f} m'.format(location, distance), (300,150), font, 2,(255,255,255),2)\n",
    "    return image, difference\n"
   ]
  },
  {
   "cell_type": "markdown",
   "metadata": {},
   "source": [
    "## Pipeline for video"
   ]
  },
  {
   "cell_type": "code",
   "execution_count": 9,
   "metadata": {},
   "outputs": [
    {
     "data": {
      "text/plain": [
       "<matplotlib.image.AxesImage at 0x7fa9092e0eb8>"
      ]
     },
     "execution_count": 9,
     "metadata": {},
     "output_type": "execute_result"
    },
    {
     "data": {
      "image/png": "[encoded data removed]",
      "text/plain": [
       "<matplotlib.figure.Figure at 0x7fa909365dd8>"
      ]
     },
     "metadata": {},
     "output_type": "display_data"
    }
   ],
   "source": [
    "import copy \n",
    "\n",
    "def get_x(y, fit):\n",
    "    x = fit[0]*y**2 + fit[1]*y + fit[2]\n",
    "    return x\n",
    "\n",
    "def get_change(current, previous):\n",
    "    try:\n",
    "        return (abs(current - previous) / previous) * 100.0\n",
    "    except ZeroDivisionError:\n",
    "        return 0\n",
    "\n",
    "# Define a class to receive the characteristics of each line detection\n",
    "class Lane():\n",
    "    def __init__(self):\n",
    "        self.curverad = None\n",
    "        self.bottomx = None\n",
    "        self.fitx = None\n",
    "        self.fit = None\n",
    "        self.ploty = None\n",
    "        \n",
    "        self.n_frames = 1\n",
    "        self.recent_xfitted = [] \n",
    "        #average x values of the fitted line over the last n iterations\n",
    "        self.bestx = None     \n",
    "        #polynomial coefficients averaged over the last n iterations\n",
    "        self.best_fit = None  \n",
    "        \n",
    "\n",
    "class VideoPipeline():\n",
    "    def __init__(self):\n",
    "        self.left_lane = Lane()\n",
    "        self.right_lane = Lane()\n",
    "        self.left_lane = Lane()\n",
    "        self.right_lane = Lane()\n",
    "        self.current_image = None\n",
    "        # was the line detected in the last iteration?\n",
    "        self.detected = False\n",
    "        # Lanes on Atleast one frame is detected.\n",
    "        self.init_detection = False\n",
    "        self.binary_warped_image = None\n",
    "        self.frame_counter = 0\n",
    "        \n",
    "        \n",
    "    def sanity_check(self):\n",
    "        # Checking that curvature is valid.\n",
    "        if self.left_lane.curverad > 11000 or self.right_lane.curverad > 10000:\n",
    "            print('r1')\n",
    "            print ('left_lane: %f, right_lane: %f',self.left_lane.curverad, self.right_lane.curverad)\n",
    "            return False\n",
    "        \n",
    "        if self.left_lane.bottomx:\n",
    "            # Checking that lanes separated by approximately the right distance horizontally across frames\n",
    "            current_diff = abs(self.left_lane.bottomx - self.right_lane.bottomx)\n",
    "            previous_diff = abs(self.left_lane.bottomx - self.right_lane.bottomx)\n",
    "            if get_change(current_diff, previous_diff) > 5:\n",
    "                print('r2')\n",
    "                print('current_diff: %f, previous_diff: %f',current_diff, previous_diff)\n",
    "                return False\n",
    "        \n",
    "        # Checking that lanes are roughly parallel.\n",
    "        # We do this by checking the difference in x values of lanes for few y values.\n",
    "        ymax = self.current_image.shape[1]\n",
    "        y_evals = [0, ymax/2, ymax]\n",
    "        diffs = []\n",
    "        for y in y_evals:\n",
    "            xl = get_x(y, self.left_lane.fit)\n",
    "            xr = get_x(y, self.right_lane.fit)\n",
    "            diffs.append(abs(xl-xr))\n",
    "        if np.std(np.array(diffs)) > 100:\n",
    "            print('r3')\n",
    "            print(diffs)\n",
    "            print(np.std(np.array(diffs)))\n",
    "            return False\n",
    "        # No checks failed, so return True.    \n",
    "        return True\n",
    "        \n",
    "\n",
    "    def process_image_fresh(self, image):\n",
    "        self.current_image = image\n",
    "        undist = cv2.undistort(image, mtx, dist, None, mtx)\n",
    "        HLS_image = cv2.cvtColor(undist, cv2.COLOR_RGB2HLS)\n",
    "        s_channel_img = HLS_image[:,:,2]\n",
    "        combined = np.zeros_like(s_channel_img)\n",
    "        gradx = abs_sobel_thresh(s_channel_img,  orient='x', thresh_min=10, thresh_max=160)\n",
    "        grady = abs_sobel_thresh(s_channel_img,  orient='y', thresh_min=10, thresh_max=160)\n",
    "        mag_binary = mag_thresh(s_channel_img, sobel_kernel=3, mag_thresh=(10, 150))\n",
    "        dir_binary = dir_threshold(s_channel_img, sobel_kernel=15, thresh=(0.7, 1.3))\n",
    "        combined[((gradx == 1) & (grady == 1)) | ((mag_binary == 1) & (dir_binary == 1))] = 1 \n",
    "        binary_warped_image = warp_image(combined)\n",
    "        self.binary_warped_image = binary_warped_image\n",
    "        self.left_lane.fit, self.right_lane.fit = FindLanes(binary_warped_image)\n",
    "        self.left_lane.fitx, self.right_lane.fitx, ploty = GetLanePoints(\n",
    "            self.left_lane.fit, self.right_lane.fit, binary_warped_image)\n",
    "        self.left_lane.ploty = ploty\n",
    "        self.right_lane.ploty = ploty\n",
    "        \n",
    "        y_max = image.shape[0]\n",
    "        self.left_lane.bottomx = get_x(y_max, self.left_lane.fit)\n",
    "        self.right_lane.bottomx = get_x(y_max, self.right_lane.fit)\n",
    "        \n",
    "        self.left_lane.curverad, self.right_lane.curverad = (\n",
    "            GetLaneRadiusDetails(self.left_lane.fitx, self.right_lane.fitx, ploty))\n",
    "        self.detected = self.sanity_check()\n",
    "        \n",
    "\n",
    "\n",
    "    \n",
    "    def process_image_in_margins(self, image):\n",
    "        self.current_image = image\n",
    "        undist = cv2.undistort(image, mtx, dist, None, mtx)\n",
    "        HLS_image = cv2.cvtColor(undist, cv2.COLOR_RGB2HLS)\n",
    "        s_channel_img = HLS_image[:,:,2]\n",
    "        combined = np.zeros_like(s_channel_img)\n",
    "        gradx = abs_sobel_thresh(s_channel_img,  orient='x', thresh_min=10, thresh_max=160)\n",
    "        grady = abs_sobel_thresh(s_channel_img,  orient='y', thresh_min=10, thresh_max=160)\n",
    "        mag_binary = mag_thresh(s_channel_img, sobel_kernel=3, mag_thresh=(10, 150))\n",
    "        dir_binary = dir_threshold(s_channel_img, sobel_kernel=15, thresh=(0.7, 1.3))\n",
    "        combined[((gradx == 1) & (grady == 1)) | ((mag_binary == 1) & (dir_binary == 1))] = 1 \n",
    "        binary_warped_image = warp_image(combined)\n",
    "        self.binary_warped_image = binary_warped_image\n",
    "        self.left_lane.fit, self.right_lane.fit = FindLanesUsingMargin(\n",
    "            binary_warped_image, self.left_lane.fit, self.right_lane.fit)\n",
    "        self.left_lane.fitx, self.right_lane.fitx, ploty = GetLanePoints(\n",
    "            self.left_lane.fit, self.right_lane.fit, binary_warped_image)\n",
    "        self.left_lane.ploty = ploty\n",
    "        self.right_lane.ploty = ploty  \n",
    "        \n",
    "        y_max = image.shape[0]\n",
    "        self.left_lane.bottomx = get_x(y_max, self.left_lane.fit)\n",
    "        self.right_lane.bottomx = get_x(y_max, self.right_lane.fit)\n",
    "        \n",
    "        self.left_lane.curverad, self.right_lane.curverad = (\n",
    "            GetLaneRadiusDetails(self.left_lane.fitx, self.right_lane.fitx, ploty))\n",
    "        self.detected = self.sanity_check()\n",
    "\n",
    "    def update_lane_details_with_new_frames(self):\n",
    "        self.update_lane_details(self.left_lane)\n",
    "        self.update_lane_details(self.right_lane)\n",
    "            \n",
    "    def update_lane_details(self, lane):\n",
    "        if(len(lane.recent_xfitted) > lane.n_frames):\n",
    "            lane.recent_xfitted.pop(0)\n",
    "\n",
    "        lane.recent_xfitted.append(lane.fitx)\n",
    "        lane.bestx = np.mean(lane.recent_xfitted, axis=0)\n",
    "        lane.best_fit = np.polyfit(lane.ploty, lane.bestx, 2)\n",
    "        \n",
    "    def process_image(self, image):\n",
    "        self.current_image = image\n",
    "        \n",
    "        \n",
    "        self.process_image_fresh(image)\n",
    "        return self.binary_warped_image\n",
    "        \n",
    "        self.frame_counter = self.frame_counter+1\n",
    "        print(self.frame_counter)\n",
    "        font = cv2.FONT_HERSHEY_SIMPLEX\n",
    "        \n",
    "        # Lanes found in Previous frame.\n",
    "        if len(self.left_lane.recent_xfitted):\n",
    "            self.process_image_in_margins(image)\n",
    "        if self.detected:\n",
    "            self.update_lane_details_with_new_frames()\n",
    "            return self.binary_warped_image\n",
    "        else:\n",
    "            self.process_image_fresh(image)\n",
    "            return self.binary_warped_image\n",
    "            if self.detected:\n",
    "                self.update_lane_details_with_new_frames()\n",
    "                return self.binary_warped_image\n",
    "        \n",
    "        if len(self.left_lane.recent_xfitted):\n",
    "            undist = cv2.undistort(image, mtx, dist, None, mtx)           \n",
    "            result = ProjectLanesOnImage(undist, self.binary_warped_image, self.left_lane.bestx, self.right_lane.bestx, self.left_lane.ploty)\n",
    "            left_curverad, right_curverad = GetLaneRadiusDetails(self.left_lane.bestx, self.right_lane.bestx, self.left_lane.ploty)\n",
    "            font = cv2.FONT_HERSHEY_SIMPLEX\n",
    "            cv2.putText(result, 'Left: {:04} m'.format(int(left_curverad)), (10,50), font, 2,(255,255,255),2)\n",
    "            cv2.putText(result, 'Right: {:04} m'.format(int(right_curverad)), (600,50), font, 2,(255,255,255),2)\n",
    "            cv2.putText(result, str(self.frame_counter), (300,250), font, 2,(255,255,255),2)\n",
    "            result, _ = AddCarLocation(result, self.left_lane.best_fit, self.right_lane.best_fit)\n",
    "            return result\n",
    "        # Cannot find lanes.\n",
    "        return image\n",
    "\n",
    "image = mpimg.imread('./test_images/straight_lines2.jpg')\n",
    "result = VideoPipeline().process_image(image)\n",
    "plt.imshow(result)"
   ]
  },
  {
   "cell_type": "markdown",
   "metadata": {},
   "source": [
    "## Process the video"
   ]
  },
  {
   "cell_type": "code",
   "execution_count": 10,
   "metadata": {},
   "outputs": [
    {
     "name": "stdout",
     "output_type": "stream",
     "text": [
      "[MoviePy] >>>> Building video video_with_lanes.mp4\n",
      "[MoviePy] Writing video video_with_lanes.mp4\n"
     ]
    },
    {
     "name": "stderr",
     "output_type": "stream",
     "text": [
      " 11%|█         | 11/101 [00:03<00:29,  3.01it/s]"
     ]
    },
    {
     "name": "stdout",
     "output_type": "stream",
     "text": [
      "r1\n",
      "left_lane: %f, right_lane: %f 2360.6449798287317 28345.38893435731\n"
     ]
    },
    {
     "name": "stderr",
     "output_type": "stream",
     "text": [
      " 17%|█▋        | 17/101 [00:04<00:23,  3.61it/s]"
     ]
    },
    {
     "name": "stdout",
     "output_type": "stream",
     "text": [
      "r3\n",
      "[1024.843555022162, 1027.5240966195909, 1270.4776876182236]\n",
      "115.16643018721791\n",
      "r3\n",
      "[1047.4425002041485, 1031.9040166939717, 1347.6192483198315]\n",
      "145.30566711425666\n"
     ]
    },
    {
     "name": "stderr",
     "output_type": "stream",
     "text": [
      " 19%|█▉        | 19/101 [00:05<00:21,  3.77it/s]"
     ]
    },
    {
     "name": "stdout",
     "output_type": "stream",
     "text": [
      "r1\n",
      "left_lane: %f, right_lane: %f 15009.478519981629 531.0599888449634\n"
     ]
    },
    {
     "name": "stderr",
     "output_type": "stream",
     "text": [
      " 22%|██▏       | 22/101 [00:05<00:20,  3.94it/s]"
     ]
    },
    {
     "name": "stdout",
     "output_type": "stream",
     "text": [
      "r3\n",
      "[1125.0515403557279, 1018.9189573063471, 1362.1458414751976]\n",
      "143.48152293910374\n"
     ]
    },
    {
     "name": "stderr",
     "output_type": "stream",
     "text": [
      " 27%|██▋       | 27/101 [00:06<00:18,  3.99it/s]"
     ]
    },
    {
     "name": "stdout",
     "output_type": "stream",
     "text": [
      "r1\n",
      "left_lane: %f, right_lane: %f 1026.9646407803536 20404.461527617113\n"
     ]
    },
    {
     "name": "stderr",
     "output_type": "stream",
     "text": [
      " 30%|██▉       | 30/101 [00:07<00:17,  4.14it/s]"
     ]
    },
    {
     "name": "stdout",
     "output_type": "stream",
     "text": [
      "r1\n",
      "left_lane: %f, right_lane: %f 105106.76137824837 3138.616167964688\n"
     ]
    },
    {
     "name": "stderr",
     "output_type": "stream",
     "text": [
      " 36%|███▌      | 36/101 [00:08<00:14,  4.43it/s]"
     ]
    },
    {
     "name": "stdout",
     "output_type": "stream",
     "text": [
      "r1\n",
      "left_lane: %f, right_lane: %f 1833.4207294363998 99428.51338723527\n"
     ]
    },
    {
     "name": "stderr",
     "output_type": "stream",
     "text": [
      " 41%|████      | 41/101 [00:08<00:13,  4.61it/s]"
     ]
    },
    {
     "name": "stdout",
     "output_type": "stream",
     "text": [
      "r1\n",
      "left_lane: %f, right_lane: %f 6581.349632719319 31952.327129674122\n"
     ]
    },
    {
     "name": "stderr",
     "output_type": "stream",
     "text": [
      " 49%|████▊     | 49/101 [16:51:26<17:53:22, 1238.51s/it]"
     ]
    },
    {
     "name": "stdout",
     "output_type": "stream",
     "text": [
      "r1\n",
      "left_lane: %f, right_lane: %f 12569.104668586806 2105.0030531490765\n"
     ]
    },
    {
     "name": "stderr",
     "output_type": "stream",
     "text": [
      " 51%|█████▏    | 52/101 [16:51:27<15:53:06, 1167.07s/it]"
     ]
    },
    {
     "name": "stdout",
     "output_type": "stream",
     "text": [
      "r1\n",
      "left_lane: %f, right_lane: %f 49707.67472382463 3122.4655253732208\n"
     ]
    },
    {
     "name": "stderr",
     "output_type": "stream",
     "text": [
      " 55%|█████▌    | 56/101 [16:51:30<13:32:48, 1083.75s/it]"
     ]
    },
    {
     "name": "stdout",
     "output_type": "stream",
     "text": [
      "r3\n",
      "[717.4355429508591, 962.019003959605, 224.25691742830256]\n",
      "306.8367503692324\n"
     ]
    },
    {
     "name": "stderr",
     "output_type": "stream",
     "text": [
      "\r",
      " 56%|█████▋    | 57/101 [16:51:34<13:00:52, 1064.82s/it]"
     ]
    },
    {
     "name": "stdout",
     "output_type": "stream",
     "text": [
      "r3\n",
      "[656.7835702738263, 972.8091672981711, 204.92544688752167]\n",
      "315.1178526831028\n"
     ]
    },
    {
     "name": "stderr",
     "output_type": "stream",
     "text": [
      "\r",
      " 57%|█████▋    | 58/101 [16:51:35<12:29:58, 1046.47s/it]"
     ]
    },
    {
     "name": "stdout",
     "output_type": "stream",
     "text": [
      "r3\n",
      "[490.52166934261203, 989.1139676805, 236.95918982719985]\n",
      "312.44999970260284\n"
     ]
    },
    {
     "name": "stderr",
     "output_type": "stream",
     "text": [
      " 61%|██████▏   | 62/101 [16:51:36<10:36:19, 978.97s/it] "
     ]
    },
    {
     "name": "stdout",
     "output_type": "stream",
     "text": [
      "r3\n",
      "[132.2342111508966, 426.8098258626673, 43.67814168568202]\n",
      "163.7772395129157\n"
     ]
    },
    {
     "name": "stderr",
     "output_type": "stream",
     "text": [
      "\r",
      " 62%|██████▏   | 63/101 [16:51:36<10:10:10, 963.44s/it]"
     ]
    },
    {
     "name": "stdout",
     "output_type": "stream",
     "text": [
      "r3\n",
      "[161.3152191939676, 426.7180875773289, 434.71177173064365]\n",
      "127.03816420071841\n",
      "r1\n",
      "left_lane: %f, right_lane: %f 17526.950602796285 761.5525790825513\n"
     ]
    },
    {
     "name": "stderr",
     "output_type": "stream",
     "text": [
      " 65%|██████▌   | 66/101 [16:51:37<8:56:27, 919.65s/it] "
     ]
    },
    {
     "name": "stdout",
     "output_type": "stream",
     "text": [
      "r3\n",
      "[151.41708121437213, 432.2033285385851, 324.80509530288134]\n",
      "115.68093121365325\n"
     ]
    },
    {
     "name": "stderr",
     "output_type": "stream",
     "text": [
      "\r",
      " 66%|██████▋   | 67/101 [16:51:37<8:33:21, 905.93s/it]"
     ]
    },
    {
     "name": "stdout",
     "output_type": "stream",
     "text": [
      "r3\n",
      "[897.801628254968, 1017.6451130201144, 711.8996321530668]\n",
      "125.78743625036084\n"
     ]
    },
    {
     "name": "stderr",
     "output_type": "stream",
     "text": [
      "\r",
      " 67%|██████▋   | 68/101 [16:51:38<8:10:56, 892.63s/it]"
     ]
    },
    {
     "name": "stdout",
     "output_type": "stream",
     "text": [
      "r1\n",
      "left_lane: %f, right_lane: %f 14040.009259022054 1731.9636231640534\n"
     ]
    },
    {
     "name": "stderr",
     "output_type": "stream",
     "text": [
      " 70%|███████   | 71/101 [16:51:39<7:07:27, 854.92s/it]"
     ]
    },
    {
     "name": "stdout",
     "output_type": "stream",
     "text": [
      "r3\n",
      "[1096.7390466828244, 1002.7411870145694, 1282.455468402662]\n",
      "116.22118095878443\n"
     ]
    },
    {
     "name": "stderr",
     "output_type": "stream",
     "text": [
      " 75%|███████▌  | 76/101 [16:51:40<5:32:47, 798.69s/it]"
     ]
    },
    {
     "name": "stdout",
     "output_type": "stream",
     "text": [
      "r1\n",
      "left_lane: %f, right_lane: %f 1241.391858331091 15574.740569343212\n",
      "r1\n",
      "left_lane: %f, right_lane: %f 1469.9014768654379 13688.69491770659\n"
     ]
    },
    {
     "name": "stderr",
     "output_type": "stream",
     "text": [
      "\r",
      " 76%|███████▌  | 77/101 [16:51:40<5:15:19, 788.32s/it]"
     ]
    },
    {
     "name": "stdout",
     "output_type": "stream",
     "text": [
      "r3\n",
      "[1079.9152734643533, 1035.159636737128, 761.0457671071488]\n",
      "140.95674775021826\n"
     ]
    },
    {
     "name": "stderr",
     "output_type": "stream",
     "text": [
      "\r",
      " 77%|███████▋  | 78/101 [16:51:40<4:58:19, 778.22s/it]"
     ]
    },
    {
     "name": "stdout",
     "output_type": "stream",
     "text": [
      "r3\n",
      "[1109.9170867616888, 1059.7874504244865, 851.9311977334787]\n",
      "111.69100290022575\n"
     ]
    },
    {
     "name": "stderr",
     "output_type": "stream",
     "text": [
      " 79%|███████▉  | 80/101 [16:51:41<4:25:34, 758.77s/it]"
     ]
    },
    {
     "name": "stdout",
     "output_type": "stream",
     "text": [
      "r1\n",
      "left_lane: %f, right_lane: %f 2391.1453874117155 10361.15537882491\n"
     ]
    },
    {
     "name": "stderr",
     "output_type": "stream",
     "text": [
      "\r",
      " 80%|████████  | 81/101 [16:51:41<4:09:48, 749.41s/it]"
     ]
    },
    {
     "name": "stdout",
     "output_type": "stream",
     "text": [
      "r1\n",
      "left_lane: %f, right_lane: %f 947.8408429649526 23694.807543164483\n"
     ]
    },
    {
     "name": "stderr",
     "output_type": "stream",
     "text": [
      " 86%|████████▌ | 87/101 [16:51:44<2:42:48, 697.75s/it]"
     ]
    },
    {
     "name": "stdout",
     "output_type": "stream",
     "text": [
      "r1\n",
      "left_lane: %f, right_lane: %f 15427.297868181733 2763.5234794706066\n"
     ]
    },
    {
     "name": "stderr",
     "output_type": "stream",
     "text": [
      "\r",
      " 87%|████████▋ | 88/101 [16:51:44<2:29:27, 689.82s/it]"
     ]
    },
    {
     "name": "stdout",
     "output_type": "stream",
     "text": [
      "r1\n",
      "left_lane: %f, right_lane: %f 14782.086034443022 1812.0551160517437\n"
     ]
    },
    {
     "name": "stderr",
     "output_type": "stream",
     "text": [
      " 90%|█████████ | 91/101 [16:51:45<1:51:10, 667.09s/it]"
     ]
    },
    {
     "name": "stdout",
     "output_type": "stream",
     "text": [
      "r3\n",
      "[1153.8830174082366, 1086.6361882046688, 1359.9477575261262]\n",
      "116.27745892320807\n"
     ]
    },
    {
     "name": "stderr",
     "output_type": "stream",
     "text": [
      " 99%|█████████▉| 100/101 [16:51:48<10:07, 607.08s/it] \n"
     ]
    },
    {
     "name": "stdout",
     "output_type": "stream",
     "text": [
      "[MoviePy] Done.\n",
      "[MoviePy] >>>> Video ready: video_with_lanes.mp4 \n",
      "\n",
      "CPU times: user 2min 49s, sys: 2.48 s, total: 2min 51s\n",
      "Wall time: 16h 51min 48s\n"
     ]
    }
   ],
   "source": [
    "# Import everything needed to edit/save/watch video clips\n",
    "from moviepy.editor import VideoFileClip\n",
    "from IPython.display import HTML\n",
    "\n",
    "output = 'video_with_lanes.mp4'\n",
    "clip2 = VideoFileClip('project_video.mp4').subclip(37,41)\n",
    "#clip2 = VideoFileClip('project_video.mp4')\n",
    "pipeline = VideoPipeline()\n",
    "process_image = pipeline.process_image\n",
    "out_clip = clip2.fl_image(process_image)\n",
    "%time out_clip.write_videofile(output, audio=False)"
   ]
  },
  {
   "cell_type": "code",
   "execution_count": 11,
   "metadata": {},
   "outputs": [
    {
     "data": {
      "text/html": [
       "\n",
       "<video width=\"960\" height=\"540\" controls>\n",
       "  <source src=\"video_with_lanes.mp4\">\n",
       "</video>\n"
      ],
      "text/plain": [
       "<IPython.core.display.HTML object>"
      ]
     },
     "execution_count": 11,
     "metadata": {},
     "output_type": "execute_result"
    }
   ],
   "source": [
    "#Play the video inline\n",
    "\n",
    "HTML(\"\"\"\n",
    "<video width=\"960\" height=\"540\" controls>\n",
    "  <source src=\"{0}\">\n",
    "</video>\n",
    "\"\"\".format(output))"
   ]
  },
  {
   "cell_type": "code",
   "execution_count": null,
   "metadata": {},
   "outputs": [],
   "source": []
  }
 ],
 "metadata": {
  "kernelspec": {
   "display_name": "Python 3",
   "language": "python",
   "name": "python3"
  },
  "language_info": {
   "codemirror_mode": {
    "name": "ipython",
    "version": 3
   },
   "file_extension": ".py",
   "mimetype": "text/x-python",
   "name": "python",
   "nbconvert_exporter": "python",
   "pygments_lexer": "ipython3",
   "version": "3.6.4"
  }
 },
 "nbformat": 4,
 "nbformat_minor": 2
}
